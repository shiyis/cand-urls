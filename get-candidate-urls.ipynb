{
 "cells": [
  {
   "cell_type": "code",
   "execution_count": 1,
   "metadata": {},
   "outputs": [
    {
     "name": "stderr",
     "output_type": "stream",
     "text": [
      "  0%|          | 0/1 [00:00<?, ?it/s]"
     ]
    },
    {
     "name": "stdout",
     "output_type": "stream",
     "text": [
      "CONSTANT, CHRISTOPHER Democrat Alaska House 2022ballotpedia\n"
     ]
    },
    {
     "name": "stderr",
     "output_type": "stream",
     "text": [
      "100%|██████████| 1/1 [00:04<00:00,  4.56s/it]\n"
     ]
    },
    {
     "name": "stdout",
     "output_type": "stream",
     "text": [
      "https://ballotpedia.org/Christopher_Constant\n",
      "https://ballotpedia.org/United_States_House_of_Representatives_election_in_Alaska,_2022\n",
      "https://ballotpedia.org/United_States_House_of_Representatives_special_election_in_Alaska,_2022\n",
      "https://ballotpedia.org/Alaska%27s_At-Large_Congressional_District\n",
      "https://ballotpedia.org/Alaska_House_of_Representatives_elections,_2022\n",
      "https://ballotpedia.org/United_States_House_of_Representatives_election_in_Alaska,_2024\n",
      "https://ballotpedia.org/Chris_Bye\n",
      "https://ballotpedia.org/Mary_Peltola\n",
      "https://ballotpedia.org/Nicholas_Begich\n",
      "https://ballotpedia.org/David_Ambrose\n",
      "https://ballotpedia.org/Andrew_Halcro\n"
     ]
    },
    {
     "name": "stderr",
     "output_type": "stream",
     "text": [
      "100%|██████████| 1/1 [00:03<00:00,  3.29s/it]\n"
     ]
    },
    {
     "name": "stdout",
     "output_type": "stream",
     "text": [
      "200\n"
     ]
    },
    {
     "name": "stderr",
     "output_type": "stream",
     "text": [
      "100%|██████████| 1/1 [00:00<00:00, 1844.46it/s]\n",
      "100%|██████████| 1/1 [00:00<00:00, 3041.55it/s]\n"
     ]
    }
   ],
   "source": [
    "# -*- coding: utf-8 -*-\n",
    "\"\"\"\n",
    "Created on Sat Nov 18 22:13:03 2021\n",
    "\n",
    "@author: Shiyi Shen\n",
    "\"\"\"\n",
    "# !pip install googlesearch_python\n",
    "\n",
    "# imports\n",
    "import os\n",
    "import sys\n",
    "from os import chdir, getcwd\n",
    "from pathlib import Path\n",
    "import tqdm\n",
    "from tqdm import tqdm\n",
    "import pandas as pd\n",
    "\n",
    "tqdm.pandas()\n",
    "\n",
    "wd = getcwd()\n",
    "chdir(wd)\n",
    "\n",
    "# # set directory to where this file is located\n",
    "# folder_loc = os.path.dirname(os.path.realpath(__file__))\n",
    "# os.chdir(Path(folder_loc))\n",
    "\n",
    "# import other functions\n",
    "# sys.path.insert(0, scripts_folder_rel_path)\n",
    "from resources.functions.candidates_txt_to_csv import candidate_clean\n",
    "from resources.functions.google_scraper_functions import goog_search\n",
    "from resources.functions.google_scraper_functions import clean_camp_sites\n",
    "from resources.functions.google_scraper_functions import get_links_from_ballot\n",
    "\n",
    "\n",
    "#######################################################################\n",
    "\n",
    "# set filepaths\n",
    "\n",
    "# all the candidates\n",
    "cand_file_rel_path = \"./resources/data/weball22.txt\"\n",
    "# candidates descriptions\n",
    "cand_descrip_rel_path = \"./resources/data/fields.csv\"\n",
    "\n",
    "# output.txt file name\n",
    "outname = \"./resources/data/candidates.csv\"\n",
    "\n",
    "\n",
    "# no need to change these filepaths\n",
    "\n",
    "# functions folder\n",
    "scripts_folder_rel_path = \"./resources/functions/\"\n",
    "\n",
    "# state abbreviations dataset\n",
    "state_abbrev_rel_path = \"./resources/data/state_abbrev.csv\"\n",
    "\n",
    "#######################################################################\n",
    "# # CANDIDATE FEC CSV IMPORT\n",
    "# =============================================================================\n",
    "# get candidate list\n",
    "# cand_file = from FEC | cand_descrip = column names | state abbrev = state names\n",
    "df = candidate_clean(cand_file_rel_path, cand_descrip_rel_path, state_abbrev_rel_path)\n",
    "\n",
    "\n",
    "\n",
    "# # GET GOOGLE RESULTS\n",
    "# =============================================================================\n",
    "# create a column that we'll be searching with\n",
    "df[\"search_query\"] = (\n",
    "    df[\"CAND_NAME\"]\n",
    "    + \" \"\n",
    "    + df[\"CAND_PTY_AFFILIATION_FULL\"]\n",
    "    + \" \"\n",
    "    + df[\"STATE_FULL\"]\n",
    "    + \" \"\n",
    "    + df[\"ELECT_TYPE\"]\n",
    ")\n",
    "\n",
    "# create campaign website specific columns\n",
    "df[\"link_results\"] = df[\"search_query\"] + \" \" + \"2022\" + \"ballotpedia\"\n",
    "df[\"campaign_site_search\"] = \"\"\n",
    "\n",
    "# search for campaign website results and other relevant social media links\n",
    "df[\"link_results\"] = df[\"link_results\"].progress_apply(goog_search, args=(10,4))\n",
    "df[\"campaign_site_search\"] = df[\"link_results\"].progress_apply(get_links_from_ballot)\n",
    "\n",
    "\n",
    "# CLEAN UP and make links all strings\n",
    "df[\"link_results\"] = df[\"link_results\"].progress_apply(lambda x: '\\n'.join(x))\n",
    "df[\"campaign_site_search\"] = df[\"campaign_site_search\"].progress_apply(lambda x: '\\n'.join(x))\n",
    "\n",
    "df.to_csv(outname, encoding=\"utf-8\")\n"
   ]
  }
 ],
 "metadata": {
  "kernelspec": {
   "display_name": "cosi114a",
   "language": "python",
   "name": "cosi114a"
  },
  "language_info": {
   "codemirror_mode": {
    "name": "ipython",
    "version": 3
   },
   "file_extension": ".py",
   "mimetype": "text/x-python",
   "name": "python",
   "nbconvert_exporter": "python",
   "pygments_lexer": "ipython3",
   "version": "3.8.3"
  },
  "orig_nbformat": 4
 },
 "nbformat": 4,
 "nbformat_minor": 2
}
